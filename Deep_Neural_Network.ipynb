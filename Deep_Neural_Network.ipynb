{
 "cells": [
  {
   "cell_type": "markdown",
   "metadata": {},
   "source": [
    "# Code for Feed Forward Deep Neural Network"
   ]
  },
  {
   "cell_type": "code",
   "execution_count": 1,
   "metadata": {},
   "outputs": [],
   "source": [
    "import numpy as np\n",
    "import math\n"
   ]
  },
  {
   "cell_type": "code",
   "execution_count": 34,
   "metadata": {},
   "outputs": [],
   "source": [
    "def Relu(x):\n",
    "    value=np.zeros(len(x))\n",
    "    for i in range(len(x)):\n",
    "        if x[i]<0 :\n",
    "            value[i]=0\n",
    "        else :\n",
    "            value[i]=x[i]\n",
    "    return value\n",
    "    \n",
    "def der_relu(x):\n",
    "    value=np.zeros(len(x))\n",
    "    for i in range(len(x)):\n",
    "        if x[i]<0 :\n",
    "            value[i]=0\n",
    "        else :\n",
    "            value[i]=1\n",
    "    return value\n",
    "    \n",
    "def sigmoid(x):\n",
    "    return 1/(1+np.exp(-x))\n",
    "\n",
    "def der_sigmoid(x):\n",
    "    y=sigmoid(x)\n",
    "    return y*(1-y)\n"
   ]
  },
  {
   "cell_type": "code",
   "execution_count": 36,
   "metadata": {},
   "outputs": [],
   "source": [
    "class Deep_Neural_network:\n",
    "    def __init__(self, nodes, hidden_activation=Relu, output_activation=sigmoid):\n",
    "        self.nodes=nodes#list expected\n",
    "        self.hact=hidden_activation\n",
    "        self.oact= output_activation\n",
    "        self.batch=batch_size\n",
    "        self.layers =len(nodes)\n",
    "        \n",
    "        self.b = np.array([np.random.rand(self.nodes[i]) for i in range(self.layers-1)])\n",
    "        self.W= np.array([np.random.rand(self.nodes[i+1], self.nodes[i]) for i in range(self.layers-1)])  \n",
    "    \n",
    "    def __forward_propagation(self, x):\n",
    "        \"\"\" x is a vector of features of a data point\"\"\"\n",
    "        \n",
    "        self.z= np.array([np.zeros(self.nodes[i]) for i in range(self.layers)])  #layers-1 column\n",
    "        self.a=np.array( [np.zeros(self.nodes[i]) for i in range(self.layers-1)])\n",
    "                  \n",
    "        #setting their values\n",
    "        self.z[0] =x\n",
    "        for l in range(self.layers-1):\n",
    "            self.a[l]=np.dot(self.W[l], self.z[l])+self.b[l]\n",
    "            self.z[l+1]=self.hact(a[l])\n",
    "        self.z[self.layers-1] = self.oact(a[self.layers-2])\n",
    "            \n",
    "    def __back_propagation(self, x, y):\n",
    "        self.delta = np.array([np.random.rand(self.nodes[i]) for i in range(self.layers-1)])\n",
    "        self.delta[self.layers-2]= (self.z[self.layers-1]-y)*self.z[self.layers-1]*(np.ones(self.nodes[self.layers-1])\n",
    "                                                                               -self.z[self.layers-1])\n",
    "        for l in range(self.layers-2):\n",
    "            self.delta[self.layers-3-l]=der_relu(self.a[self.layers-3-l])*np.dot(self.W[self.layers-2-l].T, self.delta[self.layers-2-l]) \n",
    "            \n",
    "        self.db = self.delta\n",
    "        self.dW= self.W.copy() \n",
    "        for l in range(self.layers-1):\n",
    "            self.dW[l]=np.outer(self.delta[l], self.z[l])\n",
    "            \n",
    "    def train(self, X, Y, learning_rate = 0.01, batch_size=32, n_epoch=5):\n",
    "        ## shuffle the data set\n",
    "        dataset = list(zip(X, Y))\n",
    "        dataset_copy=dataset.copy()\n",
    "        np.random.shuffle(dataset_copy)\n",
    "        #X_sh=np.array(np.array([i[0]) for i in dataset_copy])\n",
    "        #Y_sh =np.array(np.array([i[1]) for i in dataset_copy])\n",
    "        \n",
    "        #forward-backward propagation\n",
    "        for i in range(epoch):\n",
    "            for x,y in dataset_copy:\n",
    "                self.__forward_propagation(x)\n",
    "                self.__back_propagation(x, y)\n",
    "                \n",
    "                self.W =self.W-learning_rate*self.dW\n",
    "                self.b = self.b -learning_rate*self.db    \n",
    "        return self\n",
    "    \n",
    "    def predict(self, X_test):\n",
    "        Y_predict=[]\n",
    "        for x in X_test:\n",
    "            self.__forward_propagation(x)\n",
    "            y_pr=self.z[self.layers-1]\n",
    "            Y_predict.append(y_pr)\n",
    "        return Y_predict\n",
    "    "
   ]
  },
  {
   "cell_type": "markdown",
   "metadata": {},
   "source": [
    "# Example Digit Classification using MNIST Data"
   ]
  },
  {
   "cell_type": "code",
   "execution_count": 24,
   "metadata": {},
   "outputs": [],
   "source": [
    "from sklearn.datasets import fetch_openml\n",
    "mnist = fetch_openml('mnist_784', version=1, cache=True)\n",
    "# Define the features and the labels\n",
    "X, Y = mnist['data'], np.asfarray(mnist['target'])"
   ]
  },
  {
   "cell_type": "code",
   "execution_count": 26,
   "metadata": {},
   "outputs": [
    {
     "data": {
      "text/plain": [
       "3.0"
      ]
     },
     "execution_count": 26,
     "metadata": {},
     "output_type": "execute_result"
    },
    {
     "data": {
      "image/png": "[encoded data removed]",
      "text/plain": [
       "<Figure size 432x288 with 1 Axes>"
      ]
     },
     "metadata": {
      "needs_background": "light"
     },
     "output_type": "display_data"
    }
   ],
   "source": [
    "import matplotlib.pyplot as plt\n",
    "import matplotlib.cm as cm\n",
    "some_index = 7\n",
    "some_digit = X[some_index]\n",
    "some_digit_image = some_digit.reshape(28,28)\n",
    "plt.imshow(some_digit_image, cmap=cm.jet, interpolation='nearest')\n",
    "plt.axis('off')\n",
    "# Check the label\n",
    "Y[some_index]"
   ]
  },
  {
   "cell_type": "code",
   "execution_count": null,
   "metadata": {},
   "outputs": [],
   "source": [
    "\n"
   ]
  },
  {
   "cell_type": "code",
   "execution_count": null,
   "metadata": {},
   "outputs": [],
   "source": []
  }
 ],
 "metadata": {
  "kernelspec": {
   "display_name": "Python 3",
   "language": "python",
   "name": "python3"
  },
  "language_info": {
   "codemirror_mode": {
    "name": "ipython",
    "version": 3
   },
   "file_extension": ".py",
   "mimetype": "text/x-python",
   "name": "python",
   "nbconvert_exporter": "python",
   "pygments_lexer": "ipython3",
   "version": "3.6.6"
  }
 },
 "nbformat": 4,
 "nbformat_minor": 2
}
